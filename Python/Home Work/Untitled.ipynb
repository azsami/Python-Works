{
 "cells": [
  {
   "cell_type": "code",
   "execution_count": 6,
   "metadata": {},
   "outputs": [],
   "source": [
    "# Authors = []\n",
    "# Quotes = []\n",
    "# Tags = []\n",
    "# i = 1\n",
    "# try: \n",
    "#     url = \"http://spidyquotes.herokuapp.com/page/{}/\".format(str(i))\n",
    "#     print(url)\n",
    "#     with urlopen(url) as Urlclient:\n",
    "#             page_soup = soup(Urlclient.read(), 'html.parser')\n",
    "#             koutes = page_soup.findAll(\"div\", {\"class\" : \"quote\"})\n",
    "#             for kote in koutes:\n",
    "#                 Quotes.append(kote.findAll(\"span\",{\"class\" : \"text\"})[0].text)\n",
    "#                 Authors.append(kote.findAll(\"small\",{\"class\" : \"author\"})[0].text)\n",
    "#                 Tags.append(kote.findAll(\"a\",{\"class\" : \"tag\"})[0].text)\n",
    "        \n",
    "        \n",
    "#     time.sleep(random.randint(1,5))\n",
    "    \n",
    "    \n",
    "#     i = i+1\n",
    "# # except: pass\n",
    "        "
   ]
  },
  {
   "cell_type": "code",
   "execution_count": 31,
   "metadata": {},
   "outputs": [
    {
     "ename": "SyntaxError",
     "evalue": "EOL while scanning string literal (<ipython-input-31-3c5ed49f1ece>, line 23)",
     "output_type": "error",
     "traceback": [
      "\u001b[1;36m  File \u001b[1;32m\"<ipython-input-31-3c5ed49f1ece>\"\u001b[1;36m, line \u001b[1;32m23\u001b[0m\n\u001b[1;33m    with open('Quotes.csv, newline= '') as file:\u001b[0m\n\u001b[1;37m                                                ^\u001b[0m\n\u001b[1;31mSyntaxError\u001b[0m\u001b[1;31m:\u001b[0m EOL while scanning string literal\n"
     ]
    }
   ],
   "source": [
    "from urllib.request import urlopen \n",
    "import time\n",
    "import random\n",
    "import csv\n",
    "Authors = []\n",
    "Quotes = []\n",
    "Tags = []\n",
    "listi = [Author, Quotes, Tags]\n",
    "i = 1\n",
    "for i in range(1, 11):\n",
    "    url = \"http://spidyquotes.herokuapp.com/page/{}/\".format(str(i))\n",
    "    print(url)\n",
    "    with urlopen(url) as Urlclient:\n",
    "        page_soup = soup(Urlclient.read(),'html.parser')\n",
    "#         koutes = page_soup.findAll(\"div\", {\"class\" : \"quote\"})\n",
    "#         for kote in koutes:\n",
    "#             Quotes.append(kote.findAll(\"span\",{\"class\" : \"text\"})[0].text)\n",
    "#             Authors.append(kote.findAll(\"small\",{\"class\" : \"author\"})[0].text)\n",
    "#             Tags.append(kote.findAll(\"a\",{\"class\":\"tag\"})[0].text)\n",
    "        \n",
    "#         time.sleep(random.randint(1,3))\n",
    "        \n",
    "#     with open('Quotes.csv, newline= '') as file:\n",
    "#         a = csv.writer(file,diameter=',' )\n",
    "#         Alldata\n",
    "#         a.writerows(listi)\n"
   ]
  },
  {
   "cell_type": "code",
   "execution_count": 32,
   "metadata": {},
   "outputs": [
    {
     "data": {
      "text/plain": [
       "[]"
      ]
     },
     "execution_count": 32,
     "metadata": {},
     "output_type": "execute_result"
    }
   ],
   "source": [
    "page_soup"
   ]
  },
  {
   "cell_type": "code",
   "execution_count": null,
   "metadata": {},
   "outputs": [],
   "source": []
  }
 ],
 "metadata": {
  "kernelspec": {
   "display_name": "Python 3",
   "language": "python",
   "name": "python3"
  },
  "language_info": {
   "codemirror_mode": {
    "name": "ipython",
    "version": 3
   },
   "file_extension": ".py",
   "mimetype": "text/x-python",
   "name": "python",
   "nbconvert_exporter": "python",
   "pygments_lexer": "ipython3",
   "version": "3.7.1"
  }
 },
 "nbformat": 4,
 "nbformat_minor": 2
}
