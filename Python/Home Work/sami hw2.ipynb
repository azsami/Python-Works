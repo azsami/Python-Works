{
 "cells": [
  {
   "cell_type": "code",
   "execution_count": 1,
   "metadata": {},
   "outputs": [
    {
     "name": "stdout",
     "output_type": "stream",
     "text": [
      "http://spidyquotes.herokuapp.com/page/1/\n",
      "http://spidyquotes.herokuapp.com/page/2/\n",
      "http://spidyquotes.herokuapp.com/page/3/\n",
      "http://spidyquotes.herokuapp.com/page/4/\n",
      "http://spidyquotes.herokuapp.com/page/5/\n",
      "http://spidyquotes.herokuapp.com/page/6/\n",
      "http://spidyquotes.herokuapp.com/page/7/\n",
      "http://spidyquotes.herokuapp.com/page/8/\n",
      "http://spidyquotes.herokuapp.com/page/9/\n",
      "http://spidyquotes.herokuapp.com/page/10/\n"
     ]
    }
   ],
   "source": [
    "from bs4 import BeautifulSoup as soup\n",
    "from urllib.request import urlopen as uReq\n",
    "import time\n",
    "import random\n",
    "import csv\n",
    "Authors = []\n",
    "Quotes = []\n",
    "Tags = []\n",
    "i = 1\n",
    "for i in range(1,11):\n",
    "    url = \"http://spidyquotes.herokuapp.com/page/{}/\".format(i)\n",
    "    print(url)\n",
    "    with uReq(url) as urlClient:\n",
    "        page_soup = soup(urlClient.read(), 'html.parser')\n",
    "        containers = page_soup.findAll('div',{'class':\"quote\"})\n",
    "        for con in containers:\n",
    "            Authors.append(con.findAll(\"small\",{\"class\" : \"author\"})[0].text)\n",
    "            Quotes.append(con.findAll(\"span\",{\"class\" : \"text\"})[0].text.replace(',',' ').replace('\\n', ' '))\n",
    "#             Tags.append(con.findAll)\n",
    "        time.sleep(random.randint(1,3))"
   ]
  },
  {
   "cell_type": "code",
   "execution_count": 13,
   "metadata": {},
   "outputs": [],
   "source": [
    "heads =(\"Authors\", \"Quotes\")\n",
    "with open('webscrp.csv', 'w') as f:\n",
    "    writer = csv.writer(f)\n",
    "    writer.writerow(heads)\n",
    "    writer.writerows(zip(Authors,Quotes))"
   ]
  },
  {
   "cell_type": "code",
   "execution_count": null,
   "metadata": {},
   "outputs": [],
   "source": []
  },
  {
   "cell_type": "code",
   "execution_count": 8,
   "metadata": {},
   "outputs": [
    {
     "data": {
      "text/plain": [
       "100"
      ]
     },
     "execution_count": 8,
     "metadata": {},
     "output_type": "execute_result"
    }
   ],
   "source": [
    "len(Authors)"
   ]
  },
  {
   "cell_type": "code",
   "execution_count": 7,
   "metadata": {},
   "outputs": [
    {
     "data": {
      "text/plain": [
       "100"
      ]
     },
     "execution_count": 7,
     "metadata": {},
     "output_type": "execute_result"
    }
   ],
   "source": [
    "len(Quotes)"
   ]
  },
  {
   "cell_type": "code",
   "execution_count": 6,
   "metadata": {},
   "outputs": [],
   "source": []
  },
  {
   "cell_type": "code",
   "execution_count": null,
   "metadata": {},
   "outputs": [],
   "source": []
  }
 ],
 "metadata": {
  "kernelspec": {
   "display_name": "Python 3",
   "language": "python",
   "name": "python3"
  },
  "language_info": {
   "codemirror_mode": {
    "name": "ipython",
    "version": 3
   },
   "file_extension": ".py",
   "mimetype": "text/x-python",
   "name": "python",
   "nbconvert_exporter": "python",
   "pygments_lexer": "ipython3",
   "version": "3.7.1"
  }
 },
 "nbformat": 4,
 "nbformat_minor": 2
}
