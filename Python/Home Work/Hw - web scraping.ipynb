{
 "cells": [
  {
   "cell_type": "code",
   "execution_count": 10,
   "metadata": {},
   "outputs": [],
   "source": [
    "movie_names = ['Joker', 'WALL-E', 'Psycho']\n",
    "api_key = 'ea44369c'\n",
    "Url_1= 'http://www.omdbapi.com/?t={}&apikey={}'.format(movie_names[0],api_key)\n",
    "Url_2= 'http://www.omdbapi.com/?t={}&apikey={}'.format(movie_names[1],api_key)\n",
    "Url_3= 'http://www.omdbapi.com/?t={}&apikey={}'.format(movie_names[2],api_key)\n",
    "\n",
    "\n",
    "from urllib.request import urlopen\n",
    "\n",
    "with urlopen(Url_1) as u:\n",
    "    att_1 = u.read().decode()\n",
    "with urlopen(Url_2) as u:\n",
    "    att_2 = u.read().decode()\n",
    "with urlopen(Url_3) as u:\n",
    "    att_3 = u.read().decode()\n",
    "\n",
    "# I tried to input the whole list , but i failed. i tried with urllib.parse but i don't have any idea about that ........\n",
    "# movie_names = ['Joker', 'WALL-E', 'Psycho']\n",
    "# api_key = 'ea44369c'\n",
    "# Url_1= 'http://www.omdbapi.com/?t={movie_names}&apikey={}'.format(movie_names=movie_names,api_key)\n",
    "\n",
    "# from urllib.request import urlopen\n",
    "\n",
    "\n",
    "# with urlopen(Url_1) as u:\n",
    "#     att_1 = u.read().decode()\n",
    "\n",
    "# att_1\n"
   ]
  },
  {
   "cell_type": "code",
   "execution_count": 11,
   "metadata": {},
   "outputs": [],
   "source": [
    "import json\n",
    "myData_1 = json.loads(att_1)\n",
    "myData_2 = json.loads(att_2)\n",
    "myData_3 = json.loads(att_3)"
   ]
  },
  {
   "cell_type": "code",
   "execution_count": 12,
   "metadata": {},
   "outputs": [],
   "source": [
    "myData =[myData_1, myData_2, myData_3]"
   ]
  },
  {
   "cell_type": "code",
   "execution_count": 20,
   "metadata": {},
   "outputs": [],
   "source": [
    "Head= ['Title','Released','Internet_Movie_Database_Ratings','Rotten_Tomatoes_Ratings']\n",
    "movie_1=[myData[0]['Title'],myData[0]['Released'],myData[0][ 'Ratings'][0]['Value'],myData[0][ 'Ratings'][1]['Value']]\n",
    "movie_2=[myData[1]['Title'],myData[1]['Released'],myData[1][ 'Ratings'][0]['Value'],myData[1][ 'Ratings'][1]['Value']]\n",
    "movie_3=[myData[2]['Title'],myData[2]['Released'],myData[1][ 'Ratings'][0]['Value'],myData[2][ 'Ratings'][1]['Value']]\n"
   ]
  },
  {
   "cell_type": "code",
   "execution_count": 21,
   "metadata": {},
   "outputs": [],
   "source": [
    "# Title = [myData[0]['Title'],myData[1]['Title'],myData[2]['Title']]\n",
    "# Released = [myData[0]['Released'],myData[1]['Released'],myData[2]['Released']]\n"
   ]
  },
  {
   "cell_type": "code",
   "execution_count": 22,
   "metadata": {},
   "outputs": [],
   "source": [
    "# Internet_Movie_Database_Ratings = [myData[0][ 'Ratings'][0]['Value'],myData[1][ 'Ratings'][0]['Value'],myData[2][ 'Ratings'][0]['Value']]\n",
    "# Rotten_Tomatoes_Ratings = [myData[0][ 'Ratings'][1]['Value'],myData[1][ 'Ratings'][1]['Value'],myData[2][ 'Ratings'][1]['Value']]"
   ]
  },
  {
   "cell_type": "code",
   "execution_count": 26,
   "metadata": {},
   "outputs": [],
   "source": [
    "Alldata= [Head, movie_1,movie_2,movie_3]"
   ]
  },
  {
   "cell_type": "code",
   "execution_count": 27,
   "metadata": {},
   "outputs": [],
   "source": [
    "# ALLDATA = [TITLE, RELEASED, RATING_IMDB, RATING_RTO]"
   ]
  },
  {
   "cell_type": "code",
   "execution_count": null,
   "metadata": {},
   "outputs": [],
   "source": []
  },
  {
   "cell_type": "code",
   "execution_count": 28,
   "metadata": {},
   "outputs": [],
   "source": [
    "import csv \n",
    "with open('Movies.csv',\"w\", newline= '') as m:\n",
    "    a = csv.writer(m, delimiter =',' )\n",
    "    Alldata\n",
    "    a.writerows(Alldata)"
   ]
  },
  {
   "cell_type": "code",
   "execution_count": null,
   "metadata": {},
   "outputs": [],
   "source": []
  },
  {
   "cell_type": "code",
   "execution_count": null,
   "metadata": {},
   "outputs": [],
   "source": []
  },
  {
   "cell_type": "code",
   "execution_count": null,
   "metadata": {},
   "outputs": [],
   "source": []
  }
 ],
 "metadata": {
  "kernelspec": {
   "display_name": "Python 3",
   "language": "python",
   "name": "python3"
  },
  "language_info": {
   "codemirror_mode": {
    "name": "ipython",
    "version": 3
   },
   "file_extension": ".py",
   "mimetype": "text/x-python",
   "name": "python",
   "nbconvert_exporter": "python",
   "pygments_lexer": "ipython3",
   "version": "3.7.1"
  }
 },
 "nbformat": 4,
 "nbformat_minor": 2
}
