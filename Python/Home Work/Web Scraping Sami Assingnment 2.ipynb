{
 "cells": [
  {
   "cell_type": "code",
   "execution_count": null,
   "metadata": {},
   "outputs": [],
   "source": [
    "# from bs4 import BeautifulSoup as soup\n",
    "# from urllib.request import urlopen \n",
    "# import time\n",
    "# import random\n",
    "# import csv\n",
    "# Authors = []\n",
    "# Quotes = []\n",
    "# Tags = []\n",
    "# i = 1\n",
    "# for i in range(1, 11):\n",
    "#     url = \"http://spidyquotes.herokuapp.com/page/{}/\".format(str(i))\n",
    "#     print(url)\n",
    "#     with urlopen(url) as Urlclient:\n",
    "#         page_soup = soup(Urlclient.read(), 'html.parser')\n",
    "#         koutes = page_soup.findAll(\"div\", {\"class\" : \"quote\"})\n",
    "#         for kote in koutes:\n",
    "#             Quotes.append(kote.findAll(\"span\",{\"class\" : \"text\"})[0].text)\n",
    "#             Authors.append(kote.findAll(\"small\",{\"class\" : \"author\"})[0].text)\n",
    "#             Tags.append(kote.findAll(\"a\",{\"class\" : \"tag\"})[0].text)\n",
    "        \n",
    "#         time.sleep(random.randint(1,3))\n"
   ]
  },
  {
   "cell_type": "code",
   "execution_count": 15,
   "metadata": {},
   "outputs": [],
   "source": [
    "from bs4 import BeautifulSoup as soup\n",
    "from urllib.request import urlopen as uReq\n",
    "import time\n",
    "import random\n",
    "import csv\n"
   ]
  },
  {
   "cell_type": "code",
   "execution_count": 16,
   "metadata": {},
   "outputs": [],
   "source": [
    "Authors = []\n",
    "Quotes = []\n",
    "Tags = []"
   ]
  },
  {
   "cell_type": "code",
   "execution_count": 17,
   "metadata": {},
   "outputs": [],
   "source": [
    "from bs4 import BeautifulSoup as soup\n",
    "from urllib.request import urlopen as uReq\n",
    "import time\n",
    "import random\n",
    "import csv\n",
    "Authors = []\n",
    "Quotes = []\n",
    "Tags = []\n",
    "i = 1\n",
    "for i in range(1,11):\n",
    "    url = \"http://spidyquotes.herokuapp.com/page/{}/\".format(i)\n",
    "    print(url)\n",
    "    with uReq(url) as urlClient:\n",
    "        page_soup = soup(urlClient.read(), 'html.parser')\n",
    "        containers = page_soup.findAll('div',{'class':\"quote\"})\n",
    "        for con in containers:\n",
    "            Authors.append(con.findAll(\"small\",{\"class\" : \"author\"})[0].text)\n",
    "            Quotes.append(con.findAll(\"span\",{\"class\" : \"text\"})[0].text.replace(',',' ').replace('\\n', ' '))\n",
    "        time.sleep(random.randint(1,3))"
   ]
  },
  {
   "cell_type": "code",
   "execution_count": 18,
   "metadata": {},
   "outputs": [],
   "source": [
    "# Authors"
   ]
  },
  {
   "cell_type": "code",
   "execution_count": 20,
   "metadata": {},
   "outputs": [
    {
     "name": "stdout",
     "output_type": "stream",
     "text": [
      "http://spidyquotes.herokuapp.com/page/1/\n"
     ]
    },
    {
     "ename": "NameError",
     "evalue": "name 'urlopen' is not defined",
     "output_type": "error",
     "traceback": [
      "\u001b[1;31m---------------------------------------------------------------------------\u001b[0m",
      "\u001b[1;31mNameError\u001b[0m                                 Traceback (most recent call last)",
      "\u001b[1;32m<ipython-input-20-405cc5d1bba4>\u001b[0m in \u001b[0;36m<module>\u001b[1;34m\u001b[0m\n\u001b[0;32m      6\u001b[0m \u001b[0murl\u001b[0m \u001b[1;33m=\u001b[0m \u001b[1;34m\"http://spidyquotes.herokuapp.com/page/{}/\"\u001b[0m\u001b[1;33m.\u001b[0m\u001b[0mformat\u001b[0m\u001b[1;33m(\u001b[0m\u001b[0mstr\u001b[0m\u001b[1;33m(\u001b[0m\u001b[0mi\u001b[0m\u001b[1;33m)\u001b[0m\u001b[1;33m)\u001b[0m\u001b[1;33m\u001b[0m\u001b[1;33m\u001b[0m\u001b[0m\n\u001b[0;32m      7\u001b[0m \u001b[0mprint\u001b[0m\u001b[1;33m(\u001b[0m\u001b[0murl\u001b[0m\u001b[1;33m)\u001b[0m\u001b[1;33m\u001b[0m\u001b[1;33m\u001b[0m\u001b[0m\n\u001b[1;32m----> 8\u001b[1;33m \u001b[1;32mwith\u001b[0m \u001b[0murlopen\u001b[0m\u001b[1;33m(\u001b[0m\u001b[0murl\u001b[0m\u001b[1;33m)\u001b[0m \u001b[1;32mas\u001b[0m \u001b[0mUrlclient\u001b[0m\u001b[1;33m:\u001b[0m\u001b[1;33m\u001b[0m\u001b[1;33m\u001b[0m\u001b[0m\n\u001b[0m\u001b[0;32m      9\u001b[0m     \u001b[0mpage_soup\u001b[0m \u001b[1;33m=\u001b[0m \u001b[0msoup\u001b[0m\u001b[1;33m(\u001b[0m\u001b[0mUrlclient\u001b[0m\u001b[1;33m.\u001b[0m\u001b[0mread\u001b[0m\u001b[1;33m(\u001b[0m\u001b[1;33m)\u001b[0m\u001b[1;33m,\u001b[0m \u001b[1;34m'html.parser'\u001b[0m\u001b[1;33m)\u001b[0m\u001b[1;33m\u001b[0m\u001b[1;33m\u001b[0m\u001b[0m\n\u001b[0;32m     10\u001b[0m     \u001b[0mkoutes\u001b[0m \u001b[1;33m=\u001b[0m \u001b[0mpage_soup\u001b[0m\u001b[1;33m.\u001b[0m\u001b[0mfindAll\u001b[0m\u001b[1;33m(\u001b[0m\u001b[1;34m\"div\"\u001b[0m\u001b[1;33m,\u001b[0m \u001b[1;33m{\u001b[0m\u001b[1;34m\"class\"\u001b[0m \u001b[1;33m:\u001b[0m \u001b[1;34m\"quote\"\u001b[0m\u001b[1;33m}\u001b[0m\u001b[1;33m)\u001b[0m\u001b[1;33m\u001b[0m\u001b[1;33m\u001b[0m\u001b[0m\n",
      "\u001b[1;31mNameError\u001b[0m: name 'urlopen' is not defined"
     ]
    }
   ],
   "source": [
    "Authors = []\n",
    "Quotes = []\n",
    "Tags = []\n",
    "i = 1\n",
    "\n",
    "url = \"http://spidyquotes.herokuapp.com/page/{}/\".format(str(i))\n",
    "print(url)\n",
    "with urlopen(url) as Urlclient:\n",
    "    page_soup = soup(Urlclient.read(), 'html.parser')\n",
    "    koutes = page_soup.findAll(\"div\", {\"class\" : \"quote\"})\n",
    "    for kote in koutes:\n",
    "        Quotes.append(kote.findAll(\"span\",{\"class\" : \"text\"})[0].text)\n",
    "        Authors.append(kote.findAll(\"small\",{\"class\" : \"author\"})[0].text)\n",
    "        Tags.append(kote.findAll(\"a\",{\"class\" : \"tag\"})[0].text)\n",
    "        \n",
    "        \n",
    "    time.sleep(random.randint(1,5))\n",
    "        \n"
   ]
  },
  {
   "cell_type": "code",
   "execution_count": 38,
   "metadata": {},
   "outputs": [],
   "source": []
  },
  {
   "cell_type": "code",
   "execution_count": 44,
   "metadata": {},
   "outputs": [],
   "source": [
    "with open('WebScrp.csv',\"w+\", newline= '') as f:\n",
    "    try:\n",
    "        f.write(Authors + ',' + tags + ',' + Quotes + '\\n')\n",
    "    except:\n",
    "        pass\n",
    "    "
   ]
  },
  {
   "cell_type": "code",
   "execution_count": null,
   "metadata": {},
   "outputs": [],
   "source": [
    "# try:\n",
    "# f.write(Author + ',' + tags + ',' + Quotes + '\\n')\n",
    "# except:\n",
    "# pass"
   ]
  },
  {
   "cell_type": "code",
   "execution_count": null,
   "metadata": {},
   "outputs": [],
   "source": [
    "# with urlopen(url) as Urlclient:\n",
    "#     page_soup = soup(Urlclient.read(), 'html.parser')\n",
    "        \n"
   ]
  },
  {
   "cell_type": "code",
   "execution_count": null,
   "metadata": {},
   "outputs": [],
   "source": [
    "# koutes = page_soup.findAll(\"div\", {\"class\" : \"quote\"})"
   ]
  },
  {
   "cell_type": "code",
   "execution_count": null,
   "metadata": {},
   "outputs": [],
   "source": [
    "# koutes[0].findAll(\"span\",{\"class\" : \"text\"})[0].text"
   ]
  },
  {
   "cell_type": "code",
   "execution_count": null,
   "metadata": {},
   "outputs": [],
   "source": [
    "# for kote in koutes:\n",
    "#     Quotes.append(kote.findAll(\"span\",{\"class\" : \"text\"})[0].text)"
   ]
  },
  {
   "cell_type": "code",
   "execution_count": null,
   "metadata": {},
   "outputs": [],
   "source": [
    "# Quotes"
   ]
  },
  {
   "cell_type": "code",
   "execution_count": null,
   "metadata": {},
   "outputs": [],
   "source": [
    "# koutes[0].findAll(\"small\",{\"class\" : \"author\"})[0].text"
   ]
  },
  {
   "cell_type": "code",
   "execution_count": null,
   "metadata": {},
   "outputs": [],
   "source": [
    "# for kote in koutes:\n",
    "#     Authors.append(kote.findAll(\"small\",{\"class\" : \"author\"})[0].text)"
   ]
  },
  {
   "cell_type": "code",
   "execution_count": null,
   "metadata": {},
   "outputs": [],
   "source": [
    "# Authors"
   ]
  },
  {
   "cell_type": "code",
   "execution_count": null,
   "metadata": {},
   "outputs": [],
   "source": []
  },
  {
   "cell_type": "code",
   "execution_count": null,
   "metadata": {},
   "outputs": [],
   "source": [
    "# koutes[0].findAll(\"a\",{\"class\" : \"tag\"})"
   ]
  },
  {
   "cell_type": "code",
   "execution_count": null,
   "metadata": {},
   "outputs": [],
   "source": [
    "# koutes[0].findAll(\"a\",{\"class\" : \"tag\"})[0].text"
   ]
  },
  {
   "cell_type": "code",
   "execution_count": null,
   "metadata": {},
   "outputs": [],
   "source": [
    "# for kote in koutes:\n",
    "#     Tags.append(kote.findAll(\"a\",{\"class\" : \"tag\"})[0].text)"
   ]
  },
  {
   "cell_type": "code",
   "execution_count": null,
   "metadata": {},
   "outputs": [],
   "source": [
    "# Tags"
   ]
  },
  {
   "cell_type": "code",
   "execution_count": null,
   "metadata": {},
   "outputs": [],
   "source": [
    "# for kote in ukti:\n",
    "#     Tags.append(koutes[0].findAll(\"a\",{\"class\" : \"tag\"})[0].text))\n",
    "    \n",
    "    "
   ]
  },
  {
   "cell_type": "code",
   "execution_count": null,
   "metadata": {},
   "outputs": [],
   "source": [
    "# Quotes"
   ]
  },
  {
   "cell_type": "code",
   "execution_count": null,
   "metadata": {},
   "outputs": [],
   "source": []
  },
  {
   "cell_type": "code",
   "execution_count": null,
   "metadata": {},
   "outputs": [],
   "source": []
  },
  {
   "cell_type": "code",
   "execution_count": null,
   "metadata": {},
   "outputs": [],
   "source": []
  }
 ],
 "metadata": {
  "kernelspec": {
   "display_name": "Python 3",
   "language": "python",
   "name": "python3"
  },
  "language_info": {
   "codemirror_mode": {
    "name": "ipython",
    "version": 3
   },
   "file_extension": ".py",
   "mimetype": "text/x-python",
   "name": "python",
   "nbconvert_exporter": "python",
   "pygments_lexer": "ipython3",
   "version": "3.7.1"
  }
 },
 "nbformat": 4,
 "nbformat_minor": 2
}
