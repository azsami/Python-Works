{
 "cells": [
  {
   "cell_type": "code",
   "execution_count": 3,
   "metadata": {},
   "outputs": [],
   "source": [
    "from bs4 import BeautifulSoup as soup\n",
    "from urllib.request import urlopen as uReq\n",
    "import time\n",
    "import random\n",
    "import csv\n"
   ]
  },
  {
   "cell_type": "code",
   "execution_count": 4,
   "metadata": {},
   "outputs": [],
   "source": [
    "Authors = []\n",
    "Quotes = []\n",
    "Tags = []"
   ]
  },
  {
   "cell_type": "code",
   "execution_count": 43,
   "metadata": {},
   "outputs": [
    {
     "name": "stdout",
     "output_type": "stream",
     "text": [
      "http://spidyquotes.herokuapp.com/page/1/\n",
      "http://spidyquotes.herokuapp.com/page/2/\n",
      "http://spidyquotes.herokuapp.com/page/3/\n"
     ]
    },
    {
     "ename": "IndexError",
     "evalue": "list index out of range",
     "output_type": "error",
     "traceback": [
      "\u001b[1;31m---------------------------------------------------------------------------\u001b[0m",
      "\u001b[1;31mIndexError\u001b[0m                                Traceback (most recent call last)",
      "\u001b[1;32m<ipython-input-43-ce8977bb3c20>\u001b[0m in \u001b[0;36m<module>\u001b[1;34m\u001b[0m\n\u001b[0;32m      9\u001b[0m             \u001b[0mAuthors\u001b[0m\u001b[1;33m.\u001b[0m\u001b[0mappend\u001b[0m\u001b[1;33m(\u001b[0m\u001b[0mcon\u001b[0m\u001b[1;33m.\u001b[0m\u001b[0mfindAll\u001b[0m\u001b[1;33m(\u001b[0m\u001b[1;34m\"small\"\u001b[0m\u001b[1;33m,\u001b[0m\u001b[1;33m{\u001b[0m\u001b[1;34m\"class\"\u001b[0m \u001b[1;33m:\u001b[0m \u001b[1;34m\"author\"\u001b[0m\u001b[1;33m}\u001b[0m\u001b[1;33m)\u001b[0m\u001b[1;33m[\u001b[0m\u001b[1;36m0\u001b[0m\u001b[1;33m]\u001b[0m\u001b[1;33m.\u001b[0m\u001b[0mtext\u001b[0m\u001b[1;33m)\u001b[0m\u001b[1;33m\u001b[0m\u001b[1;33m\u001b[0m\u001b[0m\n\u001b[0;32m     10\u001b[0m             \u001b[0mQuotes\u001b[0m\u001b[1;33m.\u001b[0m\u001b[0mappend\u001b[0m\u001b[1;33m(\u001b[0m\u001b[0mcon\u001b[0m\u001b[1;33m.\u001b[0m\u001b[0mfindAll\u001b[0m\u001b[1;33m(\u001b[0m\u001b[1;34m\"span\"\u001b[0m\u001b[1;33m,\u001b[0m\u001b[1;33m{\u001b[0m\u001b[1;34m\"class\"\u001b[0m \u001b[1;33m:\u001b[0m \u001b[1;34m\"text\"\u001b[0m\u001b[1;33m}\u001b[0m\u001b[1;33m)\u001b[0m\u001b[1;33m[\u001b[0m\u001b[1;36m0\u001b[0m\u001b[1;33m]\u001b[0m\u001b[1;33m.\u001b[0m\u001b[0mtext\u001b[0m\u001b[1;33m.\u001b[0m\u001b[0mreplace\u001b[0m\u001b[1;33m(\u001b[0m\u001b[1;34m','\u001b[0m\u001b[1;33m,\u001b[0m\u001b[1;34m' '\u001b[0m\u001b[1;33m)\u001b[0m\u001b[1;33m.\u001b[0m\u001b[0mreplace\u001b[0m\u001b[1;33m(\u001b[0m\u001b[1;34m'\\n'\u001b[0m\u001b[1;33m,\u001b[0m \u001b[1;34m' '\u001b[0m\u001b[1;33m)\u001b[0m\u001b[1;33m)\u001b[0m\u001b[1;33m\u001b[0m\u001b[1;33m\u001b[0m\u001b[0m\n\u001b[1;32m---> 11\u001b[1;33m             \u001b[0mTags\u001b[0m\u001b[1;33m.\u001b[0m\u001b[0mappend\u001b[0m\u001b[1;33m(\u001b[0m\u001b[0mcon\u001b[0m\u001b[1;33m.\u001b[0m\u001b[0mfindAll\u001b[0m\u001b[1;33m(\u001b[0m\u001b[1;34m\"a\"\u001b[0m\u001b[1;33m,\u001b[0m\u001b[1;33m{\u001b[0m\u001b[1;34m'class'\u001b[0m\u001b[1;33m:\u001b[0m\u001b[1;34m'tag'\u001b[0m\u001b[1;33m}\u001b[0m\u001b[1;33m)\u001b[0m\u001b[1;33m[\u001b[0m\u001b[1;36m0\u001b[0m\u001b[1;33m]\u001b[0m\u001b[1;33m.\u001b[0m\u001b[0mtext\u001b[0m\u001b[1;33m)\u001b[0m\u001b[1;33m\u001b[0m\u001b[1;33m\u001b[0m\u001b[0m\n\u001b[0m\u001b[0;32m     12\u001b[0m         \u001b[0mtime\u001b[0m\u001b[1;33m.\u001b[0m\u001b[0msleep\u001b[0m\u001b[1;33m(\u001b[0m\u001b[0mrandom\u001b[0m\u001b[1;33m.\u001b[0m\u001b[0mrandint\u001b[0m\u001b[1;33m(\u001b[0m\u001b[1;36m1\u001b[0m\u001b[1;33m,\u001b[0m\u001b[1;36m3\u001b[0m\u001b[1;33m)\u001b[0m\u001b[1;33m)\u001b[0m\u001b[1;33m\u001b[0m\u001b[1;33m\u001b[0m\u001b[0m\n\u001b[0;32m     13\u001b[0m \u001b[1;33m\u001b[0m\u001b[0m\n",
      "\u001b[1;31mIndexError\u001b[0m: list index out of range"
     ]
    }
   ],
   "source": [
    "i = 1\n",
    "for i in range(1,11):\n",
    "    url = \"http://spidyquotes.herokuapp.com/page/{}/\".format(i)\n",
    "    print(url)\n",
    "    with uReq(url) as urlClient:\n",
    "        page_soup = soup(urlClient.read(), 'html.parser')\n",
    "        containers = page_soup.findAll('div',{'class':\"quote\"})\n",
    "        for con in containers:\n",
    "            Authors.append(con.findAll(\"small\",{\"class\" : \"author\"})[0].text)\n",
    "            Quotes.append(con.findAll(\"span\",{\"class\" : \"text\"})[0].text.replace(',',' ').replace('\\n', ' '))\n",
    "            Tags.append(con.findAll(\"a\",{'class':'tag'})[0].text)\n",
    "        time.sleep(random.randint(1,3))\n",
    "\n",
    "    "
   ]
  },
  {
   "cell_type": "code",
   "execution_count": null,
   "metadata": {},
   "outputs": [],
   "source": []
  },
  {
   "cell_type": "code",
   "execution_count": null,
   "metadata": {},
   "outputs": [],
   "source": []
  },
  {
   "cell_type": "code",
   "execution_count": 4,
   "metadata": {},
   "outputs": [],
   "source": [
    "containers = page_soup.findAll('div',{'class':\"quote\"})"
   ]
  },
  {
   "cell_type": "code",
   "execution_count": 5,
   "metadata": {},
   "outputs": [
    {
     "data": {
      "text/plain": [
       "<div class=\"quote\" itemscope=\"\" itemtype=\"http://schema.org/CreativeWork\">\n",
       "<span class=\"text\" itemprop=\"text\">“The truth.\" Dumbledore sighed. \"It is a beautiful and terrible thing, and should therefore be treated with great caution.”</span>\n",
       "<span>by <small class=\"author\" itemprop=\"author\">J.K. Rowling</small>\n",
       "<a href=\"/author/J-K-Rowling\">(about)</a>\n",
       "</span>\n",
       "<div class=\"tags\">\n",
       "            Tags:\n",
       "            <meta class=\"keywords\" content=\"truth\" itemprop=\"keywords\"/>\n",
       "<a class=\"tag\" href=\"/tag/truth/page/1/\">truth</a>\n",
       "</div>\n",
       "</div>"
      ]
     },
     "execution_count": 5,
     "metadata": {},
     "output_type": "execute_result"
    }
   ],
   "source": [
    "containers[0]"
   ]
  },
  {
   "cell_type": "code",
   "execution_count": 6,
   "metadata": {},
   "outputs": [
    {
     "data": {
      "text/plain": [
       "'“The truth.\" Dumbledore sighed. \"It is a beautiful and terrible thing, and should therefore be treated with great caution.”'"
      ]
     },
     "execution_count": 6,
     "metadata": {},
     "output_type": "execute_result"
    }
   ],
   "source": [
    "containers[0].findAll(\"span\",{\"class\" : \"text\"})[0].text"
   ]
  },
  {
   "cell_type": "code",
   "execution_count": 39,
   "metadata": {},
   "outputs": [
    {
     "ename": "IndexError",
     "evalue": "list index out of range",
     "output_type": "error",
     "traceback": [
      "\u001b[1;31m---------------------------------------------------------------------------\u001b[0m",
      "\u001b[1;31mIndexError\u001b[0m                                Traceback (most recent call last)",
      "\u001b[1;32m<ipython-input-39-aac51eccbcf1>\u001b[0m in \u001b[0;36m<module>\u001b[1;34m\u001b[0m\n\u001b[1;32m----> 1\u001b[1;33m \u001b[0mcontainers\u001b[0m\u001b[1;33m[\u001b[0m\u001b[1;36m0\u001b[0m\u001b[1;33m]\u001b[0m\u001b[1;33m.\u001b[0m\u001b[0mfindAll\u001b[0m\u001b[1;33m(\u001b[0m\u001b[1;34m\"div\"\u001b[0m\u001b[1;33m,\u001b[0m\u001b[1;33m{\u001b[0m\u001b[1;34m\"class\"\u001b[0m\u001b[1;33m:\u001b[0m \u001b[1;34m' tags'\u001b[0m\u001b[1;33m}\u001b[0m\u001b[1;33m)\u001b[0m\u001b[1;33m[\u001b[0m\u001b[1;36m0\u001b[0m\u001b[1;33m]\u001b[0m\u001b[1;33m.\u001b[0m\u001b[0ma\u001b[0m\u001b[1;33m.\u001b[0m\u001b[0mtext\u001b[0m\u001b[1;33m\u001b[0m\u001b[1;33m\u001b[0m\u001b[0m\n\u001b[0m",
      "\u001b[1;31mIndexError\u001b[0m: list index out of range"
     ]
    }
   ],
   "source": [
    "containers[0].findAll(\"div\",{\"class\": ' tags'})[0].a.text"
   ]
  },
  {
   "cell_type": "code",
   "execution_count": 7,
   "metadata": {},
   "outputs": [
    {
     "data": {
      "text/plain": [
       "['“The truth.\" Dumbledore sighed. \"It is a beautiful and terrible thing, and should therefore be treated with great caution.”',\n",
       " \"“I'm the one that's got to die when it's time for me to die, so let me live my life the way I want to.”\",\n",
       " '“To die will be an awfully big adventure.”',\n",
       " '“It takes courage to grow up and become who you really are.”',\n",
       " '“But better to get hurt by the truth than comforted with a lie.”',\n",
       " '“You never really understand a person until you consider things from his point of view... Until you climb inside of his skin and walk around in it.”',\n",
       " '“You have to write the book that wants to be written. And if the book will be too difficult for grown-ups, then you write it for children.”',\n",
       " '“Never tell the truth to people who are not worthy of it.”',\n",
       " \"“A person's a person, no matter how small.”\",\n",
       " '“... a mind needs books as a sword needs a whetstone, if it is to keep its edge.”']"
      ]
     },
     "execution_count": 7,
     "metadata": {},
     "output_type": "execute_result"
    }
   ],
   "source": [
    "for con in containers:\n",
    "    Quotes.append(con.findAll(\"span\",{\"class\" : \"text\"})[0].text)\n",
    "Quotes"
   ]
  },
  {
   "cell_type": "code",
   "execution_count": 8,
   "metadata": {},
   "outputs": [
    {
     "data": {
      "text/plain": [
       "'J.K. Rowling'"
      ]
     },
     "execution_count": 8,
     "metadata": {},
     "output_type": "execute_result"
    }
   ],
   "source": [
    "containers[0].findAll(\"small\",{\"class\" : \"author\"})[0].text"
   ]
  },
  {
   "cell_type": "code",
   "execution_count": 9,
   "metadata": {},
   "outputs": [
    {
     "name": "stdout",
     "output_type": "stream",
     "text": [
      "J.K. Rowling “The truth.\" Dumbledore sighed. \"It is a beautiful and terrible thing, and should therefore be treated with great caution.”\n",
      "Jimi Hendrix “I'm the one that's got to die when it's time for me to die, so let me live my life the way I want to.”\n",
      "J.M. Barrie “To die will be an awfully big adventure.”\n",
      "E.E. Cummings “It takes courage to grow up and become who you really are.”\n",
      "Khaled Hosseini “But better to get hurt by the truth than comforted with a lie.”\n",
      "Harper Lee “You never really understand a person until you consider things from his point of view... Until you climb inside of his skin and walk around in it.”\n",
      "Madeleine L'Engle “You have to write the book that wants to be written. And if the book will be too difficult for grown-ups, then you write it for children.”\n",
      "Mark Twain “Never tell the truth to people who are not worthy of it.”\n",
      "Dr. Seuss “A person's a person, no matter how small.”\n",
      "George R.R. Martin “... a mind needs books as a sword needs a whetstone, if it is to keep its edge.”\n"
     ]
    }
   ],
   "source": [
    "for con in containers:\n",
    "    Authors.append(con.findAll(\"small\",{\"class\" : \"author\"})[0].text)\n",
    "    Quotes.append(con.findAll(\"span\",{\"class\" : \"text\"})[0].text.replace(',',' ').replace('\\n', ' '))\n",
    "\n",
    "for m in range(0, len(Authors)):\n",
    "    print(Authors[m],Quotes[m])"
   ]
  },
  {
   "cell_type": "code",
   "execution_count": 10,
   "metadata": {},
   "outputs": [],
   "source": [
    "# aa = containers[0].findAll(\"a\",{\"class\" : \"tag\"})"
   ]
  },
  {
   "cell_type": "code",
   "execution_count": 11,
   "metadata": {},
   "outputs": [],
   "source": [
    "# len(aa)"
   ]
  },
  {
   "cell_type": "code",
   "execution_count": null,
   "metadata": {},
   "outputs": [],
   "source": []
  },
  {
   "cell_type": "code",
   "execution_count": null,
   "metadata": {},
   "outputs": [],
   "source": []
  },
  {
   "cell_type": "code",
   "execution_count": 14,
   "metadata": {},
   "outputs": [],
   "source": [
    "# print(aa)"
   ]
  },
  {
   "cell_type": "code",
   "execution_count": 15,
   "metadata": {},
   "outputs": [],
   "source": [
    "# for x in range(len(aa)): \n",
    "#     b = print(aa[x])"
   ]
  },
  {
   "cell_type": "code",
   "execution_count": 16,
   "metadata": {},
   "outputs": [
    {
     "name": "stdout",
     "output_type": "stream",
     "text": [
      "http://spidyquotes.herokuapp.com/page/1/\n",
      "http://spidyquotes.herokuapp.com/page/2/\n",
      "http://spidyquotes.herokuapp.com/page/3/\n",
      "http://spidyquotes.herokuapp.com/page/4/\n",
      "http://spidyquotes.herokuapp.com/page/5/\n",
      "http://spidyquotes.herokuapp.com/page/6/\n",
      "http://spidyquotes.herokuapp.com/page/7/\n",
      "http://spidyquotes.herokuapp.com/page/8/\n",
      "http://spidyquotes.herokuapp.com/page/9/\n",
      "http://spidyquotes.herokuapp.com/page/10/\n",
      "J.K. Rowling “The truth.\" Dumbledore sighed. \"It is a beautiful and terrible thing, and should therefore be treated with great caution.”\n",
      "Jimi Hendrix “I'm the one that's got to die when it's time for me to die, so let me live my life the way I want to.”\n",
      "J.M. Barrie “To die will be an awfully big adventure.”\n",
      "E.E. Cummings “It takes courage to grow up and become who you really are.”\n",
      "Khaled Hosseini “But better to get hurt by the truth than comforted with a lie.”\n",
      "Harper Lee “You never really understand a person until you consider things from his point of view... Until you climb inside of his skin and walk around in it.”\n",
      "Madeleine L'Engle “You have to write the book that wants to be written. And if the book will be too difficult for grown-ups, then you write it for children.”\n",
      "Mark Twain “Never tell the truth to people who are not worthy of it.”\n",
      "Dr. Seuss “A person's a person, no matter how small.”\n",
      "George R.R. Martin “... a mind needs books as a sword needs a whetstone, if it is to keep its edge.”\n",
      "J.K. Rowling “The truth.\" Dumbledore sighed. \"It is a beautiful and terrible thing  and should therefore be treated with great caution.”\n",
      "Jimi Hendrix “I'm the one that's got to die when it's time for me to die  so let me live my life the way I want to.”\n",
      "J.M. Barrie “To die will be an awfully big adventure.”\n",
      "E.E. Cummings “It takes courage to grow up and become who you really are.”\n",
      "Khaled Hosseini “But better to get hurt by the truth than comforted with a lie.”\n",
      "Harper Lee “You never really understand a person until you consider things from his point of view... Until you climb inside of his skin and walk around in it.”\n",
      "Madeleine L'Engle “You have to write the book that wants to be written. And if the book will be too difficult for grown-ups  then you write it for children.”\n",
      "Mark Twain “Never tell the truth to people who are not worthy of it.”\n",
      "Dr. Seuss “A person's a person  no matter how small.”\n",
      "George R.R. Martin “... a mind needs books as a sword needs a whetstone  if it is to keep its edge.”\n"
     ]
    }
   ],
   "source": [
    "i = 1\n",
    "for i in range(1,11):\n",
    "    url = \"http://spidyquotes.herokuapp.com/page/{}/\".format(i)\n",
    "    print(url)\n",
    "with uReq(url) as urlClient:\n",
    "    page_soup = soup(urlClient.read(), 'html.parser')\n",
    "    containers = page_soup.findAll('div',{'class':\"quote\"})\n",
    "    for con in containers:\n",
    "        Authors.append(con.findAll(\"small\",{\"class\" : \"author\"})[0].text)\n",
    "        Quotes.append(con.findAll(\"span\",{\"class\" : \"text\"})[0].text.replace(',',' ').replace('\\n', ' '))\n",
    "    time.sleep(random.randint(1,3))\n",
    "for m in range(0, len(Authors)):\n",
    "    print(Authors[m],Quotes[m])"
   ]
  },
  {
   "cell_type": "code",
   "execution_count": null,
   "metadata": {},
   "outputs": [],
   "source": []
  },
  {
   "cell_type": "code",
   "execution_count": null,
   "metadata": {},
   "outputs": [],
   "source": []
  },
  {
   "cell_type": "code",
   "execution_count": null,
   "metadata": {},
   "outputs": [],
   "source": []
  },
  {
   "cell_type": "code",
   "execution_count": null,
   "metadata": {},
   "outputs": [],
   "source": []
  }
 ],
 "metadata": {
  "kernelspec": {
   "display_name": "Python 3",
   "language": "python",
   "name": "python3"
  },
  "language_info": {
   "codemirror_mode": {
    "name": "ipython",
    "version": 3
   },
   "file_extension": ".py",
   "mimetype": "text/x-python",
   "name": "python",
   "nbconvert_exporter": "python",
   "pygments_lexer": "ipython3",
   "version": "3.7.1"
  }
 },
 "nbformat": 4,
 "nbformat_minor": 2
}
