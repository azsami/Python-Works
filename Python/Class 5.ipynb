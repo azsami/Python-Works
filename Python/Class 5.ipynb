{
 "cells": [
  {
   "cell_type": "code",
   "execution_count": 5,
   "metadata": {},
   "outputs": [],
   "source": [
    "api_key = 'W53HODd6G75a2EIATCzT3fNzPSoF3LcF'\n",
    "location = 'Bandarban'\n",
    "\n",
    "Url = \"http://dataservice.accuweather.com/locations/v1/cities/search?apikey={}&q={}\".format(api_key,location)"
   ]
  },
  {
   "cell_type": "code",
   "execution_count": 6,
   "metadata": {},
   "outputs": [],
   "source": [
    "from urllib.request import urlopen\n",
    "with urlopen(Url) as u:\n",
    "    str_1 = u.read().decode()\n",
    "        "
   ]
  },
  {
   "cell_type": "code",
   "execution_count": 8,
   "metadata": {},
   "outputs": [
    {
     "data": {
      "text/plain": [
       "'27769'"
      ]
     },
     "execution_count": 8,
     "metadata": {},
     "output_type": "execute_result"
    }
   ],
   "source": [
    "import json \n",
    "allData = json.loads(str_1)\n",
    "loc_key = allData[0]['Key']\n",
    "loc_key"
   ]
  },
  {
   "cell_type": "code",
   "execution_count": 12,
   "metadata": {},
   "outputs": [
    {
     "ename": "TypeError",
     "evalue": "list indices must be integers or slices, not str",
     "output_type": "error",
     "traceback": [
      "\u001b[1;31m---------------------------------------------------------------------------\u001b[0m",
      "\u001b[1;31mTypeError\u001b[0m                                 Traceback (most recent call last)",
      "\u001b[1;32m<ipython-input-12-8c703aa395df>\u001b[0m in \u001b[0;36m<module>\u001b[1;34m\u001b[0m\n\u001b[0;32m      9\u001b[0m \u001b[1;33m\u001b[0m\u001b[0m\n\u001b[0;32m     10\u001b[0m \u001b[1;33m\u001b[0m\u001b[0m\n\u001b[1;32m---> 11\u001b[1;33m \u001b[0mforecast_day\u001b[0m \u001b[1;33m=\u001b[0m \u001b[0mallData\u001b[0m\u001b[1;33m[\u001b[0m\u001b[1;34m\"DailyForecasts\"\u001b[0m\u001b[1;33m]\u001b[0m\u001b[1;33m[\u001b[0m\u001b[1;34m\"Day\"\u001b[0m\u001b[1;33m]\u001b[0m\u001b[1;33m[\u001b[0m\u001b[1;34m\"IconPhrase\"\u001b[0m\u001b[1;33m]\u001b[0m\u001b[1;33m\u001b[0m\u001b[1;33m\u001b[0m\u001b[0m\n\u001b[0m\u001b[0;32m     12\u001b[0m \u001b[0mforecast_night\u001b[0m \u001b[1;33m=\u001b[0m \u001b[0mallData\u001b[0m\u001b[1;33m[\u001b[0m\u001b[1;34m\"DailyForecasts\"\u001b[0m\u001b[1;33m]\u001b[0m\u001b[1;33m[\u001b[0m\u001b[1;34m\"Night\"\u001b[0m\u001b[1;33m]\u001b[0m\u001b[1;33m[\u001b[0m\u001b[1;34m\"IconPhrase\"\u001b[0m\u001b[1;33m]\u001b[0m\u001b[1;33m\u001b[0m\u001b[1;33m\u001b[0m\u001b[0m\n",
      "\u001b[1;31mTypeError\u001b[0m: list indices must be integers or slices, not str"
     ]
    }
   ],
   "source": [
    "Url = \"http://dataservice.accuweather.com/forecasts/v1/daily/1day/27769?apikey=W53HODd6G75a2EIATCzT3fNzPSoF3LcF&metric=true\"\n",
    "with urlopen(Url) as u:\n",
    "    str_2 = u.read().decode()\n"
   ]
  },
  {
   "cell_type": "code",
   "execution_count": 22,
   "metadata": {},
   "outputs": [],
   "source": [
    "allData = json.loads(str_2)\n",
    "allData\n",
    "\n",
    "\n",
    "forecast_day = allData[\"DailyForecasts\"][0][\"Day\"][\"IconPhrase\"]\n",
    "forecast_night = allData[\"DailyForecasts\"][0][\"Night\"][\"IconPhrase\"]\n",
    "\n"
   ]
  },
  {
   "cell_type": "code",
   "execution_count": 24,
   "metadata": {},
   "outputs": [
    {
     "data": {
      "text/plain": [
       "'Intermittent clouds'"
      ]
     },
     "execution_count": 24,
     "metadata": {},
     "output_type": "execute_result"
    }
   ],
   "source": [
    "forecast_day\n"
   ]
  },
  {
   "cell_type": "code",
   "execution_count": 25,
   "metadata": {},
   "outputs": [
    {
     "data": {
      "text/plain": [
       "'Intermittent clouds'"
      ]
     },
     "execution_count": 25,
     "metadata": {},
     "output_type": "execute_result"
    }
   ],
   "source": [
    "forecast_night"
   ]
  },
  {
   "cell_type": "code",
   "execution_count": 34,
   "metadata": {},
   "outputs": [],
   "source": [
    "Url = \"http://dataservice.accuweather.com/forecasts/v1/hourly/1hour/27769?apikey=W53HODd6G75a2EIATCzT3fNzPSoF3LcF&metric=true\"\n",
    "with urlopen(Url) as u:\n",
    "    str_3 = u.read().decode()"
   ]
  },
  {
   "cell_type": "code",
   "execution_count": 45,
   "metadata": {},
   "outputs": [
    {
     "data": {
      "text/plain": [
       "23.5"
      ]
     },
     "execution_count": 45,
     "metadata": {},
     "output_type": "execute_result"
    }
   ],
   "source": [
    "allData = json.loads(str_3)\n",
    "mydata = allData[0]['Temperature']['Value']\n",
    "mydata"
   ]
  },
  {
   "cell_type": "code",
   "execution_count": 43,
   "metadata": {},
   "outputs": [
    {
     "data": {
      "text/plain": [
       "[{'DateTime': '2019-10-26T21:00:00+06:00',\n",
       "  'EpochDateTime': 1572102000,\n",
       "  'WeatherIcon': 34,\n",
       "  'IconPhrase': 'Mostly clear',\n",
       "  'HasPrecipitation': False,\n",
       "  'IsDaylight': False,\n",
       "  'Temperature': {'Value': 23.5, 'Unit': 'C', 'UnitType': 17},\n",
       "  'PrecipitationProbability': 2,\n",
       "  'MobileLink': 'http://m.accuweather.com/en/bd/bandarban/27769/hourly-weather-forecast/27769?day=1&hbhhour=21&unit=c&lang=en-us',\n",
       "  'Link': 'http://www.accuweather.com/en/bd/bandarban/27769/hourly-weather-forecast/27769?day=1&hbhhour=21&unit=c&lang=en-us'}]"
      ]
     },
     "execution_count": 43,
     "metadata": {},
     "output_type": "execute_result"
    }
   ],
   "source": [
    "allData"
   ]
  },
  {
   "cell_type": "code",
   "execution_count": 33,
   "metadata": {},
   "outputs": [
    {
     "ename": "KeyError",
     "evalue": "0",
     "output_type": "error",
     "traceback": [
      "\u001b[1;31m---------------------------------------------------------------------------\u001b[0m",
      "\u001b[1;31mKeyError\u001b[0m                                  Traceback (most recent call last)",
      "\u001b[1;32m<ipython-input-33-30a75f59286a>\u001b[0m in \u001b[0;36m<module>\u001b[1;34m\u001b[0m\n\u001b[1;32m----> 1\u001b[1;33m \u001b[0mallData\u001b[0m\u001b[1;33m[\u001b[0m\u001b[1;36m0\u001b[0m\u001b[1;33m]\u001b[0m\u001b[1;33m\u001b[0m\u001b[1;33m\u001b[0m\u001b[0m\n\u001b[0m",
      "\u001b[1;31mKeyError\u001b[0m: 0"
     ]
    }
   ],
   "source": [
    "allData[0]"
   ]
  },
  {
   "cell_type": "code",
   "execution_count": null,
   "metadata": {},
   "outputs": [],
   "source": []
  }
 ],
 "metadata": {
  "kernelspec": {
   "display_name": "Python 3",
   "language": "python",
   "name": "python3"
  },
  "language_info": {
   "codemirror_mode": {
    "name": "ipython",
    "version": 3
   },
   "file_extension": ".py",
   "mimetype": "text/x-python",
   "name": "python",
   "nbconvert_exporter": "python",
   "pygments_lexer": "ipython3",
   "version": "3.7.1"
  }
 },
 "nbformat": 4,
 "nbformat_minor": 2
}
