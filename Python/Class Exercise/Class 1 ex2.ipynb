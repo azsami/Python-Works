{
 "cells": [
  {
   "cell_type": "code",
   "execution_count": 25,
   "metadata": {},
   "outputs": [],
   "source": [
    "myList = ['aam','jaam','kathal','komola','narikel','lichu']"
   ]
  },
  {
   "cell_type": "code",
   "execution_count": 26,
   "metadata": {},
   "outputs": [],
   "source": [
    "#['komola','narikel','lichu'] "
   ]
  },
  {
   "cell_type": "code",
   "execution_count": 27,
   "metadata": {},
   "outputs": [
    {
     "data": {
      "text/plain": [
       "['komola', 'narikel', 'lichu']"
      ]
     },
     "execution_count": 27,
     "metadata": {},
     "output_type": "execute_result"
    }
   ],
   "source": [
    "myList [-3:]"
   ]
  },
  {
   "cell_type": "code",
   "execution_count": 28,
   "metadata": {},
   "outputs": [],
   "source": [
    "A = {1, 2, 3, 4, 5}\n",
    "B = {4, 5, 6, 7, 8}"
   ]
  },
  {
   "cell_type": "code",
   "execution_count": 29,
   "metadata": {},
   "outputs": [
    {
     "data": {
      "text/plain": [
       "{1, 2, 3, 6, 7, 8}"
      ]
     },
     "execution_count": 29,
     "metadata": {},
     "output_type": "execute_result"
    }
   ],
   "source": [
    "A.symmetric_difference(B)"
   ]
  },
  {
   "cell_type": "code",
   "execution_count": 1,
   "metadata": {},
   "outputs": [
    {
     "name": "stdout",
     "output_type": "stream",
     "text": [
      "['Rahil', 'Ibrahim', 'Siam', 'Mahde', 'Fahim']\n",
      "{'Rahil', 'John', 'Ibrahim', 'Tony', 'Siam', 'Mahde', 'Abir', 'kibria', 'Fahim', 'Hamza', 'David'}\n"
     ]
    }
   ],
   "source": [
    "setA = { \"Abir\", \"kibria\", \"John\", \"David\", \"Tony\", \"Hamza\"}\n",
    "\n",
    "setB = { \"Siam\", \"Fahim\", \"Rahil\", \"Ibrahim\", \"Mahde\"}\n",
    "\n",
    "setC = {\"Hamza\", \"Mehedi\", \"Tony\",\"Ove\", \"Shafayat\"}\n",
    "\n",
    "some = list(setB)\n",
    "\n",
    "print(some)\n",
    "\n",
    "setA.update(set(some))\n",
    "\n",
    "print(setA)"
   ]
  },
  {
   "cell_type": "code",
   "execution_count": null,
   "metadata": {},
   "outputs": [],
   "source": [
    "\"\""
   ]
  }
 ],
 "metadata": {
  "kernelspec": {
   "display_name": "Python 3",
   "language": "python",
   "name": "python3"
  },
  "language_info": {
   "codemirror_mode": {
    "name": "ipython",
    "version": 3
   },
   "file_extension": ".py",
   "mimetype": "text/x-python",
   "name": "python",
   "nbconvert_exporter": "python",
   "pygments_lexer": "ipython3",
   "version": "3.7.1"
  }
 },
 "nbformat": 4,
 "nbformat_minor": 2
}
