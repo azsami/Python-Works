{
 "cells": [
  {
   "cell_type": "code",
   "execution_count": 2,
   "metadata": {},
   "outputs": [
    {
     "name": "stdout",
     "output_type": "stream",
     "text": [
      "What is your height ? : 6.5\n"
     ]
    }
   ],
   "source": [
    "height = input('What is your height ? : ')\n",
    "\n",
    "# print(height)"
   ]
  },
  {
   "cell_type": "code",
   "execution_count": 16,
   "metadata": {},
   "outputs": [
    {
     "data": {
      "text/plain": [
       "'5.6'"
      ]
     },
     "execution_count": 16,
     "metadata": {},
     "output_type": "execute_result"
    }
   ],
   "source": [
    "height"
   ]
  },
  {
   "cell_type": "code",
   "execution_count": 8,
   "metadata": {},
   "outputs": [
    {
     "name": "stdout",
     "output_type": "stream",
     "text": [
      "How old are you?\n",
      "45\n"
     ]
    }
   ],
   "source": [
    "print('How old are you?', end = ' ')\n",
    "age = input()"
   ]
  },
  {
   "cell_type": "code",
   "execution_count": 14,
   "metadata": {},
   "outputs": [
    {
     "name": "stdout",
     "output_type": "stream",
     "text": [
      "What is your height ? : 67\n",
      "odd\n"
     ]
    }
   ],
   "source": [
    "height = int(input('What is your height ? : '))\n",
    "\n",
    "# if height % 2 == 0:\n",
    "#     print('even')\n",
    "# else:\n",
    "#     print('odd')\n",
    "\n",
    "\n",
    "print('even' if height % 2 == 0 else 'odd')\n"
   ]
  },
  {
   "cell_type": "code",
   "execution_count": 15,
   "metadata": {},
   "outputs": [
    {
     "data": {
      "text/plain": [
       "7"
      ]
     },
     "execution_count": 15,
     "metadata": {},
     "output_type": "execute_result"
    }
   ],
   "source": [
    "a = 'aaaaaaa'\n",
    "\n",
    "len(a)"
   ]
  },
  {
   "cell_type": "code",
   "execution_count": 20,
   "metadata": {},
   "outputs": [
    {
     "name": "stdout",
     "output_type": "stream",
     "text": [
      "Enter Password : 123456\n",
      "Too short\n"
     ]
    }
   ],
   "source": [
    "password = input('Enter Password : ')\n",
    "\n",
    "if len(password) <= 6:\n",
    "    print('Too short')\n",
    "else:\n",
    "    print('OK')"
   ]
  },
  {
   "cell_type": "code",
   "execution_count": 23,
   "metadata": {},
   "outputs": [
    {
     "name": "stdout",
     "output_type": "stream",
     "text": [
      "Enter Password : 123456\n",
      "OK\n"
     ]
    }
   ],
   "source": [
    "password = input('Enter Password : ')\n",
    "\n",
    "if len(password) < 6:\n",
    "    print('Too short')\n",
    "elif len(password) > 6:\n",
    "    print('Too long')\n",
    "else:\n",
    "    print('OK')"
   ]
  },
  {
   "cell_type": "code",
   "execution_count": 27,
   "metadata": {},
   "outputs": [
    {
     "name": "stdout",
     "output_type": "stream",
     "text": [
      "Enter Password : 123456\n",
      "OK\n"
     ]
    }
   ],
   "source": [
    "password = input('Enter Password : ')\n",
    "\n",
    "if (len(password) < 6) or (len(password) > 6):\n",
    "    print('invalid')\n",
    "else:\n",
    "    print('OK')"
   ]
  },
  {
   "cell_type": "code",
   "execution_count": 31,
   "metadata": {},
   "outputs": [
    {
     "name": "stdout",
     "output_type": "stream",
     "text": [
      "Enter height : 4\n",
      "not ok\n"
     ]
    }
   ],
   "source": [
    "h = int(input('Enter height : '))\n",
    "\n",
    "if (h % 2 == 0) and (h % 5 == 0):\n",
    "    print('Divisible by 2 and 5')\n",
    "else:\n",
    "    print('not ok')"
   ]
  },
  {
   "cell_type": "code",
   "execution_count": null,
   "metadata": {},
   "outputs": [],
   "source": []
  },
  {
   "cell_type": "code",
   "execution_count": 36,
   "metadata": {},
   "outputs": [
    {
     "data": {
      "text/plain": [
       "[1, 4, 9, 16, 25]"
      ]
     },
     "execution_count": 36,
     "metadata": {},
     "output_type": "execute_result"
    }
   ],
   "source": [
    "myl = list(range(1,6))\n",
    "\n",
    "myl_1 = []\n",
    "\n",
    "for i in myl:\n",
    "    myl_1.append(i**2)\n",
    "    \n",
    "myl_1 \n",
    "\n",
    "[<expression (i)> for i in collection]"
   ]
  },
  {
   "cell_type": "code",
   "execution_count": 41,
   "metadata": {},
   "outputs": [
    {
     "data": {
      "text/plain": [
       "[1, 4, 9, 16, 25]"
      ]
     },
     "execution_count": 41,
     "metadata": {},
     "output_type": "execute_result"
    }
   ],
   "source": [
    "[i**2 for i in myl]"
   ]
  },
  {
   "cell_type": "code",
   "execution_count": 40,
   "metadata": {},
   "outputs": [
    {
     "data": {
      "text/plain": [
       "[1, 2, 3, 4, 5]"
      ]
     },
     "execution_count": 40,
     "metadata": {},
     "output_type": "execute_result"
    }
   ],
   "source": [
    "list(range(1,6))"
   ]
  },
  {
   "cell_type": "code",
   "execution_count": null,
   "metadata": {},
   "outputs": [],
   "source": [
    "[<expression (i)> for i in collection if <condition>]\n",
    "\n"
   ]
  },
  {
   "cell_type": "code",
   "execution_count": 42,
   "metadata": {},
   "outputs": [
    {
     "data": {
      "text/plain": [
       "[2, 4, 6, 8, 10]"
      ]
     },
     "execution_count": 42,
     "metadata": {},
     "output_type": "execute_result"
    }
   ],
   "source": [
    "[i for i in range(1,11) if i%2 == 0]"
   ]
  },
  {
   "cell_type": "code",
   "execution_count": 43,
   "metadata": {},
   "outputs": [
    {
     "name": "stdout",
     "output_type": "stream",
     "text": [
      "[2, 4, 6, 8, 10]\n"
     ]
    }
   ],
   "source": [
    "l = []\n",
    "for i in range(1,11):\n",
    "    if i%2 == 0:\n",
    "        l.append(i)\n",
    "\n",
    "print(l)"
   ]
  },
  {
   "cell_type": "code",
   "execution_count": 45,
   "metadata": {},
   "outputs": [
    {
     "data": {
      "text/plain": [
       "[86.53999999999999, 84.74000000000001, 83.30000000000001, 80.6]"
      ]
     },
     "execution_count": 45,
     "metadata": {},
     "output_type": "execute_result"
    }
   ],
   "source": []
  },
  {
   "cell_type": "code",
   "execution_count": 47,
   "metadata": {},
   "outputs": [
    {
     "name": "stdout",
     "output_type": "stream",
     "text": [
      "33.8\n",
      "35.6\n",
      "37.4\n",
      "39.2\n"
     ]
    }
   ],
   "source": [
    "c=[1,2,3,4]\n",
    "\n",
    "for i in c:\n",
    "    print(i*(9/5) +32)"
   ]
  },
  {
   "cell_type": "code",
   "execution_count": 48,
   "metadata": {},
   "outputs": [
    {
     "name": "stdout",
     "output_type": "stream",
     "text": [
      "[86.53999999999999, 84.74, 83.3, 80.6]\n"
     ]
    }
   ],
   "source": [
    "\n",
    "\n",
    "T(°F) = T(°C) × 9/5 + 32."
   ]
  },
  {
   "cell_type": "code",
   "execution_count": 49,
   "metadata": {},
   "outputs": [],
   "source": [
    "cel = [30.3, 29.3, 28.5, 27]\n",
    "\n",
    "fer = [i * (9/5) +32 for i in cel]"
   ]
  },
  {
   "cell_type": "code",
   "execution_count": 50,
   "metadata": {},
   "outputs": [
    {
     "data": {
      "text/plain": [
       "[86.53999999999999, 84.74000000000001, 83.30000000000001, 80.6]"
      ]
     },
     "execution_count": 50,
     "metadata": {},
     "output_type": "execute_result"
    }
   ],
   "source": [
    "fer"
   ]
  },
  {
   "cell_type": "code",
   "execution_count": 52,
   "metadata": {},
   "outputs": [
    {
     "data": {
      "text/plain": [
       "[33.8, 35.6, 37.4, 39.2]"
      ]
     },
     "execution_count": 52,
     "metadata": {},
     "output_type": "execute_result"
    }
   ],
   "source": [
    "[(i * (9/5) +32) for i in [1,2,3,4]]\n"
   ]
  },
  {
   "cell_type": "code",
   "execution_count": null,
   "metadata": {},
   "outputs": [],
   "source": [
    "1 to 100, make a list who are divisible by 5 and 20"
   ]
  },
  {
   "cell_type": "code",
   "execution_count": 57,
   "metadata": {},
   "outputs": [
    {
     "data": {
      "text/plain": [
       "[20, 40, 60, 80, 100]"
      ]
     },
     "execution_count": 57,
     "metadata": {},
     "output_type": "execute_result"
    }
   ],
   "source": [
    "[res for res in range(1,101) if res % 5 == 0 and res % 20 == 0]"
   ]
  },
  {
   "cell_type": "code",
   "execution_count": null,
   "metadata": {},
   "outputs": [],
   "source": [
    "A = {1, 2}\n",
    "B = { 'x', 'y' }\n",
    "\n",
    "\n",
    "A X B = {(1,x), (1,y), (2,x), (2,y)}\n",
    "\n"
   ]
  },
  {
   "cell_type": "code",
   "execution_count": 63,
   "metadata": {},
   "outputs": [
    {
     "data": {
      "text/plain": [
       "[(1, 'x'), (1, 'y'), (2, 'x'), (2, 'y')]"
      ]
     },
     "execution_count": 63,
     "metadata": {},
     "output_type": "execute_result"
    }
   ],
   "source": [
    "A = [1, 2]\n",
    "B = ['x', 'y']\n",
    "\n",
    "\n",
    "Cartesian_product = []\n",
    "\n",
    "for i in A:\n",
    "    for j in B:\n",
    "       Cartesian_product.append((i,j))\n",
    "    \n",
    "Cartesian_product"
   ]
  },
  {
   "cell_type": "code",
   "execution_count": 64,
   "metadata": {},
   "outputs": [
    {
     "data": {
      "text/plain": [
       "[(1, 'x'), (1, 'y'), (2, 'x'), (2, 'y')]"
      ]
     },
     "execution_count": 64,
     "metadata": {},
     "output_type": "execute_result"
    }
   ],
   "source": [
    "[(i,j) for i in A for j in B]"
   ]
  },
  {
   "cell_type": "code",
   "execution_count": null,
   "metadata": {},
   "outputs": [],
   "source": [
    "A =3\n",
    "B = 4\n",
    "C = 5\n",
    "\n",
    "[(i,j,k)]\n",
    "\n",
    "\n",
    "𝑎2+𝑏2=𝑐2\n",
    "\n",
    "\n"
   ]
  },
  {
   "cell_type": "code",
   "execution_count": 74,
   "metadata": {},
   "outputs": [
    {
     "data": {
      "text/plain": [
       "[(3, 4, 5),\n",
       " (5, 12, 13),\n",
       " (6, 8, 10),\n",
       " (7, 24, 25),\n",
       " (8, 15, 17),\n",
       " (9, 12, 15),\n",
       " (10, 24, 26),\n",
       " (12, 16, 20),\n",
       " (15, 20, 25),\n",
       " (18, 24, 30),\n",
       " (20, 21, 29)]"
      ]
     },
     "execution_count": 74,
     "metadata": {},
     "output_type": "execute_result"
    }
   ],
   "source": [
    "[(i,j,k) for i in range(1,31) for j in range(i,31) for k in range(j,31) if (i*i + j*j == k*k)]"
   ]
  },
  {
   "cell_type": "code",
   "execution_count": 87,
   "metadata": {},
   "outputs": [
    {
     "name": "stdout",
     "output_type": "stream",
     "text": [
      "Padma\n",
      "Meghna\n",
      "Jamuna\n",
      "Surma\n",
      "Madhumati\n",
      "Rupsha\n",
      "Ariyalkha\n",
      "Brammaputra\n",
      "Shitalakkha\n",
      "Buriganga\n"
     ]
    }
   ],
   "source": [
    "# Bad practise\n",
    "\n",
    "f = open('WorkingWithFile.txt', 'r')\n",
    "\n",
    "text = f.read()\n",
    "\n",
    "f.close()\n",
    "\n",
    "for i in text.split('\\n'):\n",
    "    print(i)"
   ]
  },
  {
   "cell_type": "code",
   "execution_count": 93,
   "metadata": {},
   "outputs": [
    {
     "data": {
      "text/plain": [
       "'Padma\\nMeghna\\nJamuna\\nSurma\\nMadhumati\\nRupsha\\nAriyalkha\\nBrammaputra\\nShitalakkha\\nBuriganga'"
      ]
     },
     "execution_count": 93,
     "metadata": {},
     "output_type": "execute_result"
    }
   ],
   "source": [
    "# Good practise\n",
    "\n",
    "try:\n",
    "    with open('WorkingWithFile.txt', 'r') as f:\n",
    "        text = f.read()\n",
    "except FileNotFoundError:\n",
    "    text = 'none'\n",
    "    \n",
    "text"
   ]
  },
  {
   "cell_type": "code",
   "execution_count": null,
   "metadata": {},
   "outputs": [],
   "source": [
    "'none'"
   ]
  },
  {
   "cell_type": "code",
   "execution_count": 96,
   "metadata": {},
   "outputs": [],
   "source": [
    "with open('WorkingWithFile.txt', 'w') as f:\n",
    "    f.write('Dhaka')\n",
    "    f.write('Tangail')\n",
    "    \n",
    "    \n",
    "    "
   ]
  },
  {
   "cell_type": "code",
   "execution_count": 104,
   "metadata": {},
   "outputs": [],
   "source": [
    "with open(r'E:\\Nitty-gritty of Data and Exploratory Analysis with Python 3\\Class 2 (Advanced Python)\\New folder\\WorkingWithFile_1.txt', 'w') as f:\n",
    "    print('Dhaka', file = f)\n",
    "    print('Tangail', file = f)"
   ]
  },
  {
   "cell_type": "code",
   "execution_count": null,
   "metadata": {},
   "outputs": [],
   "source": [
    "read\n",
    "write\n",
    "append"
   ]
  },
  {
   "cell_type": "code",
   "execution_count": 106,
   "metadata": {},
   "outputs": [],
   "source": [
    "with open('WorkingWithFile.txt', 'a') as f:\n",
    "    f.write('jossore\\n')\n",
    "    f.write('cumilla')"
   ]
  },
  {
   "cell_type": "code",
   "execution_count": 5,
   "metadata": {},
   "outputs": [
    {
     "name": "stdout",
     "output_type": "stream",
     "text": [
      "['jayanta', 'jony', 'rony']\n",
      "[28, 35, 40]\n"
     ]
    }
   ],
   "source": [
    "with open('Comma.csv', 'r') as f:\n",
    "    text = f.read()\n",
    "    \n",
    "text.split('\\n')\n",
    "\n",
    "names = []\n",
    "age = []\n",
    "\n",
    "for i in text.split('\\n'):\n",
    "    names.append(i.split(',')[0])\n",
    "    age.append(int(i.split(',')[1]))\n",
    "    \n",
    "print(names)    \n",
    "print(age)"
   ]
  },
  {
   "cell_type": "code",
   "execution_count": 13,
   "metadata": {},
   "outputs": [],
   "source": [
    "# names\n",
    "# age\n",
    "\n",
    "with open('Smample.csv', 'w') as f:\n",
    "    f.write('Name' + 'Age' + '\\n')\n",
    "    for i in range(0, len(names)):\n",
    "        f.write(names[i] + str(age[i]) + '\\n')"
   ]
  },
  {
   "cell_type": "code",
   "execution_count": null,
   "metadata": {},
   "outputs": [],
   "source": []
  }
 ],
 "metadata": {
  "kernelspec": {
   "display_name": "Python 3",
   "language": "python",
   "name": "python3"
  },
  "language_info": {
   "codemirror_mode": {
    "name": "ipython",
    "version": 3
   },
   "file_extension": ".py",
   "mimetype": "text/x-python",
   "name": "python",
   "nbconvert_exporter": "python",
   "pygments_lexer": "ipython3",
   "version": "3.6.8"
  }
 },
 "nbformat": 4,
 "nbformat_minor": 2
}
