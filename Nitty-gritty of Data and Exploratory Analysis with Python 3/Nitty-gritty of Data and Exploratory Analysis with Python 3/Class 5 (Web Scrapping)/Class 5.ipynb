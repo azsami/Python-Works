{
 "cells": [
  {
   "cell_type": "code",
   "execution_count": 3,
   "metadata": {},
   "outputs": [
    {
     "data": {
      "text/plain": [
       "'[{\"Version\":1,\"Key\":\"27868\",\"Type\":\"City\",\"Rank\":45,\"LocalizedName\":\"Tangail\",\"EnglishName\":\"Tangail\",\"PrimaryPostalCode\":\"\",\"Region\":{\"ID\":\"ASI\",\"LocalizedName\":\"Asia\",\"EnglishName\":\"Asia\"},\"Country\":{\"ID\":\"BD\",\"LocalizedName\":\"Bangladesh\",\"EnglishName\":\"Bangladesh\"},\"AdministrativeArea\":{\"ID\":\"C\",\"LocalizedName\":\"Dhaka\",\"EnglishName\":\"Dhaka\",\"Level\":1,\"LocalizedType\":\"Division\",\"EnglishType\":\"Division\",\"CountryID\":\"BD\"},\"TimeZone\":{\"Code\":\"BDT\",\"Name\":\"Asia/Dhaka\",\"GmtOffset\":6.0,\"IsDaylightSaving\":false,\"NextOffsetChange\":null},\"GeoPosition\":{\"Latitude\":24.249,\"Longitude\":89.914,\"Elevation\":{\"Metric\":{\"Value\":14.0,\"Unit\":\"m\",\"UnitType\":5},\"Imperial\":{\"Value\":45.0,\"Unit\":\"ft\",\"UnitType\":0}}},\"IsAlias\":false,\"SupplementalAdminAreas\":[],\"DataSets\":[]}]'"
      ]
     },
     "execution_count": 3,
     "metadata": {},
     "output_type": "execute_result"
    }
   ],
   "source": [
    "location = 'Tangail', \n",
    "\n",
    "api_key = 'ZZoZeYZOIkj26SlJTz9e6AkFvJf0V7b4'\n",
    "\n",
    "\n",
    "Url = 'http://dataservice.accuweather.com/locations/v1/cities/search?apikey={}&q={}'.format(api_key, location)\n",
    "\n",
    "\n",
    "\n",
    "from urllib.request import urlopen\n",
    "\n",
    "with urlopen(Url) as u:\n",
    "    str_1 = u.read().decode()\n",
    "\n"
   ]
  },
  {
   "cell_type": "code",
   "execution_count": 7,
   "metadata": {},
   "outputs": [],
   "source": [
    "import json\n",
    "\n",
    "allData = json.loads(str_1)\n",
    "\n",
    "loc_key = allData[0]['Key']"
   ]
  },
  {
   "cell_type": "code",
   "execution_count": 8,
   "metadata": {},
   "outputs": [],
   "source": [
    "\n",
    "Url = \"http://dataservice.accuweather.com/forecasts/v1/daily/1day/{}?apikey={}&metric=true\".format(loc_key, api_key)\n",
    "\n",
    "\n",
    "with urlopen(Url) as u:\n",
    "    str_2 = u.read().decode()\n"
   ]
  },
  {
   "cell_type": "code",
   "execution_count": 13,
   "metadata": {},
   "outputs": [
    {
     "data": {
      "text/plain": [
       "{'Headline': {'EffectiveDate': '2019-10-27T07:00:00+06:00',\n",
       "  'EffectiveEpochDate': 1572138000,\n",
       "  'Severity': 4,\n",
       "  'Text': 'Pleasant Sunday',\n",
       "  'Category': '',\n",
       "  'EndDate': None,\n",
       "  'EndEpochDate': None,\n",
       "  'MobileLink': 'http://m.accuweather.com/en/bd/tangail/27868/extended-weather-forecast/27868?unit=c&lang=en-us',\n",
       "  'Link': 'http://www.accuweather.com/en/bd/tangail/27868/daily-weather-forecast/27868?unit=c&lang=en-us'},\n",
       " 'DailyForecasts': [{'Date': '2019-10-26T07:00:00+06:00',\n",
       "   'EpochDate': 1572051600,\n",
       "   'Temperature': {'Minimum': {'Value': 22.4, 'Unit': 'C', 'UnitType': 17},\n",
       "    'Maximum': {'Value': 27.5, 'Unit': 'C', 'UnitType': 17}},\n",
       "   'Day': {'Icon': 12,\n",
       "    'IconPhrase': 'Showers',\n",
       "    'HasPrecipitation': True,\n",
       "    'PrecipitationType': 'Rain',\n",
       "    'PrecipitationIntensity': 'Moderate'},\n",
       "   'Night': {'Icon': 39,\n",
       "    'IconPhrase': 'Partly cloudy w/ showers',\n",
       "    'HasPrecipitation': True,\n",
       "    'PrecipitationType': 'Rain',\n",
       "    'PrecipitationIntensity': 'Light'},\n",
       "   'Sources': ['AccuWeather'],\n",
       "   'MobileLink': 'http://m.accuweather.com/en/bd/tangail/27868/daily-weather-forecast/27868?day=1&unit=c&lang=en-us',\n",
       "   'Link': 'http://www.accuweather.com/en/bd/tangail/27868/daily-weather-forecast/27868?day=1&unit=c&lang=en-us'}]}"
      ]
     },
     "execution_count": 13,
     "metadata": {},
     "output_type": "execute_result"
    }
   ],
   "source": [
    "allData = json.loads(str_2)\n",
    "allData"
   ]
  },
  {
   "cell_type": "code",
   "execution_count": 21,
   "metadata": {},
   "outputs": [],
   "source": [
    "minimum_temp = allData['DailyForecasts'][0]['Temperature']['Minimum']['Value']\n",
    "maximum_temp = allData['DailyForecasts'][0]['Temperature']['Maximum']['Value']"
   ]
  },
  {
   "cell_type": "code",
   "execution_count": 22,
   "metadata": {},
   "outputs": [
    {
     "data": {
      "text/plain": [
       "22.4"
      ]
     },
     "execution_count": 22,
     "metadata": {},
     "output_type": "execute_result"
    }
   ],
   "source": [
    "minimum_temp"
   ]
  },
  {
   "cell_type": "code",
   "execution_count": 23,
   "metadata": {},
   "outputs": [
    {
     "data": {
      "text/plain": [
       "27.5"
      ]
     },
     "execution_count": 23,
     "metadata": {},
     "output_type": "execute_result"
    }
   ],
   "source": [
    "maximum_temp"
   ]
  },
  {
   "cell_type": "code",
   "execution_count": 28,
   "metadata": {},
   "outputs": [
    {
     "data": {
      "text/plain": [
       "22.4"
      ]
     },
     "execution_count": 28,
     "metadata": {},
     "output_type": "execute_result"
    }
   ],
   "source": [
    "allData['DailyForecasts'][0]['Temperature']['Minimum']['Value']"
   ]
  },
  {
   "cell_type": "code",
   "execution_count": 44,
   "metadata": {},
   "outputs": [],
   "source": []
  },
  {
   "cell_type": "code",
   "execution_count": null,
   "metadata": {},
   "outputs": [],
   "source": []
  }
 ],
 "metadata": {
  "kernelspec": {
   "display_name": "Python 3",
   "language": "python",
   "name": "python3"
  },
  "language_info": {
   "codemirror_mode": {
    "name": "ipython",
    "version": 3
   },
   "file_extension": ".py",
   "mimetype": "text/x-python",
   "name": "python",
   "nbconvert_exporter": "python",
   "pygments_lexer": "ipython3",
   "version": "3.6.8"
  }
 },
 "nbformat": 4,
 "nbformat_minor": 2
}
