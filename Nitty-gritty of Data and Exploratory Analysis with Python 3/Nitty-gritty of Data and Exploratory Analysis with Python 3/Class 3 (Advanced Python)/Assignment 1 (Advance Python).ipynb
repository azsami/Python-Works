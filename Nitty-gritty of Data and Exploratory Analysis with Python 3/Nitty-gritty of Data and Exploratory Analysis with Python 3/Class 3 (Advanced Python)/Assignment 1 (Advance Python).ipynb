{
 "cells": [
  {
   "cell_type": "markdown",
   "metadata": {},
   "source": [
    "# Assingnment - 1 (Advance Python 3)"
   ]
  },
  {
   "cell_type": "code",
   "execution_count": null,
   "metadata": {},
   "outputs": [],
   "source": [
    "#   Run This code First\n",
    "\n",
    "Name = input('Enter your name : ' )"
   ]
  },
  {
   "cell_type": "markdown",
   "metadata": {},
   "source": [
    "### Q.1 :\n",
    "    Write a program that accepts a comma separated sequence of numbers as input and prints the highest number from a list.   You must have to use lambda and reduce fuction.\n",
    "    \n",
    "Suppose the following input is supplied to the program:\n",
    "##### 1,34,5,6,78\n",
    "\n",
    "\n",
    "\n",
    "\n",
    "\n",
    "Then, the output should be:\n",
    "\n",
    "##### 78\n"
   ]
  },
  {
   "cell_type": "code",
   "execution_count": null,
   "metadata": {},
   "outputs": [],
   "source": [
    "# Write Q.1 Answer bellow\n",
    "\n"
   ]
  },
  {
   "cell_type": "markdown",
   "metadata": {},
   "source": [
    "### Q.2 :\n",
    "    Write a program that accepts a sentence and calculate the number of upper case letters and lower case letters.\n",
    "    \n",
    "Suppose the following input is supplied to the program:\n",
    "##### Hello world!\n",
    "\n",
    "\n",
    "Then, the output should be:\n",
    "##### UPPER CASE 1\n",
    "##### LOWER CASE 9\n"
   ]
  },
  {
   "cell_type": "code",
   "execution_count": null,
   "metadata": {},
   "outputs": [],
   "source": [
    "# Write Q.2 Answer bellow\n",
    "\n"
   ]
  },
  {
   "cell_type": "markdown",
   "metadata": {},
   "source": [
    "### Q.3 :\n",
    "    With a given integral number n, write a program to generate a dictionary that contains ( i, i^2 ) such that is an         integral number between 1 and n (both included). And then the program should print the dictionary.\n",
    "    \n",
    "Suppose the following input is supplied to the program:\n",
    "###### 8\n",
    "\n",
    "\n",
    "Then, the output should be:\n",
    "###### {1: 1, 2: 4, 3: 9, 4: 16, 5: 25, 6: 36, 7: 49, 8: 64}\n",
    "\n"
   ]
  },
  {
   "cell_type": "code",
   "execution_count": null,
   "metadata": {},
   "outputs": [],
   "source": [
    "# Write Q.3 Answer bellow\n",
    "\n"
   ]
  }
 ],
 "metadata": {
  "kernelspec": {
   "display_name": "Python 3",
   "language": "python",
   "name": "python3"
  },
  "language_info": {
   "codemirror_mode": {
    "name": "ipython",
    "version": 3
   },
   "file_extension": ".py",
   "mimetype": "text/x-python",
   "name": "python",
   "nbconvert_exporter": "python",
   "pygments_lexer": "ipython3",
   "version": "3.6.8"
  }
 },
 "nbformat": 4,
 "nbformat_minor": 2
}
