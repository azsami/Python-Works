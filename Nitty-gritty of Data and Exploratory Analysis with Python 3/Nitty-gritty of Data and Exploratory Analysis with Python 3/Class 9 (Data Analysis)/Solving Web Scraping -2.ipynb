{
 "cells": [
  {
   "cell_type": "code",
   "execution_count": 1,
   "metadata": {},
   "outputs": [],
   "source": [
    "from bs4 import BeautifulSoup as soup\n",
    "from urllib.request import urlopen\n",
    "import time\n"
   ]
  },
  {
   "cell_type": "code",
   "execution_count": 30,
   "metadata": {},
   "outputs": [
    {
     "name": "stdout",
     "output_type": "stream",
     "text": [
      "http://spidyquotes.herokuapp.com/page/1/\n",
      "http://spidyquotes.herokuapp.com/page/2/\n",
      "http://spidyquotes.herokuapp.com/page/3/\n",
      "http://spidyquotes.herokuapp.com/page/4/\n",
      "http://spidyquotes.herokuapp.com/page/5/\n",
      "http://spidyquotes.herokuapp.com/page/6/\n",
      "http://spidyquotes.herokuapp.com/page/7/\n",
      "http://spidyquotes.herokuapp.com/page/8/\n",
      "http://spidyquotes.herokuapp.com/page/9/\n",
      "http://spidyquotes.herokuapp.com/page/10/\n"
     ]
    }
   ],
   "source": [
    "i = 1\n",
    "\n",
    "Check_next_page = 1\n",
    "\n",
    "with open('quotes.csv', 'w') as f:\n",
    "    f.write('Author, Qoutes, Tags\\n')\n",
    "\n",
    "    while Check_next_page == 1:\n",
    "        url = \"http://spidyquotes.herokuapp.com/page/{}/\".format(str(i))\n",
    "\n",
    "        print(url)\n",
    "\n",
    "        with urlopen(url) as m:\n",
    "            page_soup = soup(m.read(), \"html.parser\")\n",
    "\n",
    "        containers = page_soup.findAll(\"div\", {'class' : 'quote'})\n",
    "\n",
    "        for container in containers:\n",
    "            title = container.span.text.replace(',' , ' ')\n",
    "            author = container.small.text.replace(',' , ' ')\n",
    "\n",
    "            tags = ''\n",
    "\n",
    "            j = 1\n",
    "\n",
    "            tag_soup = container.findAll('a', {'class' : 'tag'})\n",
    "\n",
    "            for tag in tag_soup:\n",
    "\n",
    "                if j == len(tag_soup):\n",
    "                    tags = tags + tag.text.replace(',' , ' ')\n",
    "                else:\n",
    "                    tags = tags + tag.text.replace(',' , ' ') + \"|\"\n",
    "\n",
    "                j = j+1\n",
    "            \n",
    "            try:\n",
    "                f.write(author + \",\" + title + \",\" + tags + '\\n')\n",
    "            except:\n",
    "                pass\n",
    "            \n",
    "        if len(page_soup.findAll('li', {'class' : 'next'})) == 0:\n",
    "            Check_next_page = 0\n",
    "            \n",
    "        i = i + 1\n",
    "            \n",
    "        time.sleep(2)\n"
   ]
  },
  {
   "cell_type": "code",
   "execution_count": 10,
   "metadata": {},
   "outputs": [
    {
     "data": {
      "text/plain": [
       "'“The world as we have created it is a process of our thinking. It cannot be changed without changing our thinking.”'"
      ]
     },
     "execution_count": 10,
     "metadata": {},
     "output_type": "execute_result"
    }
   ],
   "source": [
    "containers[0].span.text"
   ]
  },
  {
   "cell_type": "code",
   "execution_count": 13,
   "metadata": {},
   "outputs": [
    {
     "data": {
      "text/plain": [
       "'Albert Einstein'"
      ]
     },
     "execution_count": 13,
     "metadata": {},
     "output_type": "execute_result"
    }
   ],
   "source": [
    "containers[0].small.text"
   ]
  },
  {
   "cell_type": "code",
   "execution_count": 23,
   "metadata": {
    "scrolled": true
   },
   "outputs": [
    {
     "data": {
      "text/plain": [
       "'change|deep-thoughts|thinking|world'"
      ]
     },
     "execution_count": 23,
     "metadata": {},
     "output_type": "execute_result"
    }
   ],
   "source": [
    "tags = ''\n",
    "\n",
    "j = 1\n",
    "\n",
    "tag_soup = containers[0].findAll('a', {'class' : 'tag'})\n",
    "\n",
    "for tag in tag_soup:\n",
    "    \n",
    "    if j == len(tag_soup):\n",
    "        tags = tags + tag.text\n",
    "    else:\n",
    "        tags = tags + tag.text + \"|\"\n",
    "    \n",
    "    j = j+1\n",
    "    \n",
    "tags"
   ]
  },
  {
   "cell_type": "code",
   "execution_count": 22,
   "metadata": {},
   "outputs": [
    {
     "data": {
      "text/plain": [
       "4"
      ]
     },
     "execution_count": 22,
     "metadata": {},
     "output_type": "execute_result"
    }
   ],
   "source": [
    "len(tag_soup)"
   ]
  },
  {
   "cell_type": "code",
   "execution_count": null,
   "metadata": {},
   "outputs": [],
   "source": []
  }
 ],
 "metadata": {
  "kernelspec": {
   "display_name": "Python 3",
   "language": "python",
   "name": "python3"
  },
  "language_info": {
   "codemirror_mode": {
    "name": "ipython",
    "version": 3
   },
   "file_extension": ".py",
   "mimetype": "text/x-python",
   "name": "python",
   "nbconvert_exporter": "python",
   "pygments_lexer": "ipython3",
   "version": "3.6.8"
  }
 },
 "nbformat": 4,
 "nbformat_minor": 2
}
