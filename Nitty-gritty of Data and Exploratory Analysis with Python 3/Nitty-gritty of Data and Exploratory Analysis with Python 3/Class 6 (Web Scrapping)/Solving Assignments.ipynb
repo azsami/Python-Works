{
 "cells": [
  {
   "cell_type": "code",
   "execution_count": 14,
   "metadata": {},
   "outputs": [],
   "source": [
    "API_KEY = '1869e707'\n",
    "movie_names = ['Joker', 'WALL-E', 'Psycho']\n",
    "\n",
    "import json\n",
    "from urllib.request import urlopen\n",
    "\n",
    "\n",
    "with open('Movies.csv', 'w') as f:\n",
    "    \n",
    "    f.write('Title,Released,IMDB Rating,Rotten Tomatoes Rating\\n')\n",
    "\n",
    "    for movie in movie_names:\n",
    "        with urlopen('http://www.omdbapi.com/?t={}&apikey={}'.format(movie, API_KEY)) as m:\n",
    "            allData = json.loads(m.read().decode())\n",
    "\n",
    "\n",
    "            t = allData['Title']\n",
    "\n",
    "            r = allData['Released']\n",
    "\n",
    "            imdb = allData['Ratings'][0]['Value']\n",
    "            rt = allData['Ratings'][1]['Value']\n",
    "            \n",
    "            f.write(t + ',' + r + ',' + imdb + ',' + rt + '\\n')\n",
    "\n",
    "\n",
    "# allData"
   ]
  },
  {
   "cell_type": "code",
   "execution_count": 3,
   "metadata": {},
   "outputs": [
    {
     "data": {
      "text/plain": [
       "{'Title': 'Joker',\n",
       " 'Year': '2019',\n",
       " 'Rated': 'R',\n",
       " 'Released': '04 Oct 2019',\n",
       " 'Runtime': '122 min',\n",
       " 'Genre': 'Crime, Drama, Thriller',\n",
       " 'Director': 'Todd Phillips',\n",
       " 'Writer': 'Todd Phillips, Scott Silver, Bob Kane (based on characters created by), Bill Finger (based on characters created by), Jerry Robinson (based on characters created by)',\n",
       " 'Actors': 'Joaquin Phoenix, Robert De Niro, Zazie Beetz, Frances Conroy',\n",
       " 'Plot': 'In Gotham City, mentally-troubled comedian Arthur Fleck is disregarded and mistreated by society. He then embarks on a downward spiral of revolution and bloody crime. This path brings him face-to-face with his alter-ego: \"The Joker\".',\n",
       " 'Language': 'English',\n",
       " 'Country': 'USA, Canada',\n",
       " 'Awards': 'N/A',\n",
       " 'Poster': 'https://m.media-amazon.com/images/M/MV5BNGVjNWI4ZGUtNzE0MS00YTJmLWE0ZDctN2ZiYTk2YmI3NTYyXkEyXkFqcGdeQXVyMTkxNjUyNQ@@._V1_SX300.jpg',\n",
       " 'Ratings': [{'Source': 'Internet Movie Database', 'Value': '8.9/10'},\n",
       "  {'Source': 'Rotten Tomatoes', 'Value': '68%'},\n",
       "  {'Source': 'Metacritic', 'Value': '59/100'}],\n",
       " 'Metascore': '59',\n",
       " 'imdbRating': '8.9',\n",
       " 'imdbVotes': '360,218',\n",
       " 'imdbID': 'tt7286456',\n",
       " 'Type': 'movie',\n",
       " 'DVD': 'N/A',\n",
       " 'BoxOffice': 'N/A',\n",
       " 'Production': 'Warner Bros. Pictures',\n",
       " 'Website': 'N/A',\n",
       " 'Response': 'True'}"
      ]
     },
     "execution_count": 3,
     "metadata": {},
     "output_type": "execute_result"
    }
   ],
   "source": [
    "allData"
   ]
  },
  {
   "cell_type": "code",
   "execution_count": 10,
   "metadata": {},
   "outputs": [
    {
     "data": {
      "text/plain": [
       "'8.9/10'"
      ]
     },
     "execution_count": 10,
     "metadata": {},
     "output_type": "execute_result"
    }
   ],
   "source": []
  },
  {
   "cell_type": "code",
   "execution_count": 11,
   "metadata": {},
   "outputs": [
    {
     "data": {
      "text/plain": [
       "'68%'"
      ]
     },
     "execution_count": 11,
     "metadata": {},
     "output_type": "execute_result"
    }
   ],
   "source": []
  },
  {
   "cell_type": "code",
   "execution_count": null,
   "metadata": {},
   "outputs": [],
   "source": []
  }
 ],
 "metadata": {
  "kernelspec": {
   "display_name": "Python 3",
   "language": "python",
   "name": "python3"
  },
  "language_info": {
   "codemirror_mode": {
    "name": "ipython",
    "version": 3
   },
   "file_extension": ".py",
   "mimetype": "text/x-python",
   "name": "python",
   "nbconvert_exporter": "python",
   "pygments_lexer": "ipython3",
   "version": "3.6.8"
  }
 },
 "nbformat": 4,
 "nbformat_minor": 2
}
